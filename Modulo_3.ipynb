{
  "nbformat": 4,
  "nbformat_minor": 0,
  "metadata": {
    "colab": {
      "private_outputs": true,
      "provenance": [],
      "authorship_tag": "ABX9TyOrKQlVJjcyLjYEiiRUiyZ9",
      "include_colab_link": true
    },
    "kernelspec": {
      "name": "python3",
      "display_name": "Python 3"
    },
    "language_info": {
      "name": "python"
    }
  },
  "cells": [
    {
      "cell_type": "markdown",
      "metadata": {
        "id": "view-in-github",
        "colab_type": "text"
      },
      "source": [
        "<a href=\"https://colab.research.google.com/github/DaomPythonProjects/Modulo_3/blob/main/Modulo_3.ipynb\" target=\"_parent\"><img src=\"https://colab.research.google.com/assets/colab-badge.svg\" alt=\"Open In Colab\"/></a>"
      ]
    },
    {
      "cell_type": "markdown",
      "source": [
        "# Módulo 3: Funciones y Modularización"
      ],
      "metadata": {
        "id": "Btnbuxm4Z5Yk"
      }
    },
    {
      "cell_type": "markdown",
      "source": [
        "> **👤 Autor**: @Diego Ojeda\n",
        "📅 **Fecha**: 10 de septiembre de 2025\n",
        "⌚ **Duración Estimada:** 14 horas\n",
        ">\n",
        ">\n",
        "> 🏷️ **Contenidos Clave:**\n",
        ">\n",
        "> - Definición y llamada de funciones y procedimientos.\n",
        "> - Parámetros, argumentos (`args`, `*kwargs`) y alcance de variables (scope).\n",
        "> - Refactorización de código para mejorar su estructura y reutilización.\n",
        "> - Lectura y escritura de archivos de texto (`open`, `read`, `write`, `append`).\n",
        "> - Manejo de persistencia de datos con el manejador de contexto `with`.\n",
        ">\n",
        "> 🎯 **Objetivo**: Diseñar programas modulares y organizados mediante funciones, y desarrollar la capacidad de gestionar la persistencia de datos realizando operaciones básicas de lectura y escritura en archivos de texto.\n",
        ">\n",
        "\n",
        "¡Bienvenido al Módulo 3! Aquí es donde damos el salto de escribir simples *scripts* a construir verdaderos *programas*. Aprenderemos a empaquetar nuestro código en bloques lógicos y reutilizables llamados **funciones**, lo que nos permitirá crear soluciones más limpias, eficientes y fáciles de mantener.\n",
        "\n",
        "---\n",
        "\n",
        "## **Parte 1: El Poder de la Modularización con Funciones**\n",
        "\n",
        "### **1.1. 🤔 ¿Qué es una Función y Por Qué Usarla?**\n",
        "\n",
        "Una **función** es un bloque de código organizado y reutilizable que se diseña para realizar una tarea específica. Piensa en ellas como las recetas de un libro de cocina: en lugar de escribir los pasos para hacer \"salsa bechamel\" cada vez que la necesitas, simplemente te refieres a la receta \"Página 25: Salsa Bechamel\".\n",
        "\n",
        "> 💡 Analogía: La Receta de Cocina\n",
        ">\n",
        "> - **Función:** La receta completa (`hacer_salsa_bechamel`).\n",
        "> - **Parámetros (Ingredientes):** Lo que la receta necesita para funcionar (`leche`, `harina`, `mantequilla`).\n",
        "> - **Cuerpo (Instrucciones):** Los pasos dentro de la receta.\n",
        "> - **Valor de Retorno (El Plato):** El resultado final (`salsa_lista`).\n",
        "\n",
        "Las usamos por cuatro razones clave:\n",
        "\n",
        "- **Reutilización:** Escribimos el código una vez y lo llamamos las veces que queramos.\n",
        "- **Abstracción:** Nos enfocamos en *qué* hace la función (`ordenar_lista`) sin preocuparnos por *cómo* lo hace.\n",
        "- **Organización:** Dividimos un problema complejo en tareas más pequeñas y manejables.\n",
        "- **Mantenibilidad:** Si encontramos un error en una tarea, solo lo corregimos en un lugar: dentro de la función.\n",
        "\n",
        "### **Anatomía de una Función en Python**\n",
        "\n",
        "Toda función en Python sigue esta estructura básica:"
      ],
      "metadata": {
        "id": "rqjb0sPaTG1E"
      }
    },
    {
      "cell_type": "code",
      "source": [
        "# 1. Palabra clave \"def\" para definir\n",
        "# |    2. Nombre de la función (snake_case)\n",
        "# |    |          3. Paréntesis con parámetros (opcional)\n",
        "# |    |          |\n",
        "def nombre_de_la_funcion(parametro1, parametro2):\n",
        "    # 4. Cuerpo de la función (código indentado)\n",
        "    #    Realiza alguna tarea...\n",
        "\n",
        "    # 5. Declaración \"return\" (opcional)\n",
        "    return \"un resultado\"\n",
        "\n",
        "resultado = nombre_de_la_funcion(\"valor1\", \"valor2\")\n",
        "print(resultado)"
      ],
      "metadata": {
        "id": "2Z94YoXLTJtw"
      },
      "execution_count": null,
      "outputs": []
    },
    {
      "cell_type": "markdown",
      "source": [
        "---\n",
        "\n",
        "### **1.2. 🛠️ Definiendo y Llamando Funciones**\n",
        "\n",
        "Veamos cómo crear y usar funciones con ejemplos prácticos.\n",
        "\n",
        "### **Funciones Simples**\n",
        "\n",
        "Una función puede simplemente ejecutar una acción sin necesidad de recibir información ni devolver un resultado."
      ],
      "metadata": {
        "id": "uamSJB1ETbiS"
      }
    },
    {
      "cell_type": "code",
      "source": [
        "# Definición de la función\n",
        "def saludar():\n",
        "    \"\"\"Esta función imprime un saludo simple en la consola.\"\"\"\n",
        "    print(\"¡Hola, bienvenido al curso de Python!\")\n",
        "    print(\"Espero que estés aprendiendo mucho.\")\n",
        "\n",
        "# Llamada a la función\n",
        "print(\"Iniciando el programa...\")\n",
        "saludar()  # El código dentro de la función se ejecuta aquí\n",
        "print(\"El programa ha terminado.\")"
      ],
      "metadata": {
        "id": "6Ciuse5iTgQb"
      },
      "execution_count": null,
      "outputs": []
    },
    {
      "cell_type": "markdown",
      "source": [
        "### **La Declaración `return`**\n",
        "\n",
        "La mayoría de las veces, queremos que una función calcule algo y nos devuelva el resultado. Para esto usamos `return`."
      ],
      "metadata": {
        "id": "wWAZL6eXTjCz"
      }
    },
    {
      "cell_type": "code",
      "source": [
        "def sumar(a, b):\n",
        "    \"\"\"Suma dos números y devuelve el resultado.\"\"\"\n",
        "    resultado = a + b\n",
        "    return resultado\n",
        "\n",
        "# Llamamos a la función y guardamos el valor de retorno en una variable\n",
        "total = sumar(15, 7)\n",
        "print(f\"El resultado de la suma es: {total}\") # Salida: El resultado de la suma es: 22\n",
        "\n",
        "# También podemos devolver múltiples valores (Python los empaqueta en una tupla)\n",
        "def obtener_coordenadas():\n",
        "    \"\"\"Devuelve una ubicación X, Y, Z.\"\"\"\n",
        "    x = 10\n",
        "    y = 20\n",
        "    z = 30\n",
        "    return x, y, z\n",
        "\n",
        "ubicacion = obtener_coordenadas()\n",
        "print(f\"Ubicación obtenida: {ubicacion}\") # Salida: Ubicación obtenida: (10, 20, 30)\n",
        "print(f\"Coordenada Y: {ubicacion[1]}\")   # Salida: Coordenada Y: 20"
      ],
      "metadata": {
        "id": "97tC4c0mT2v0"
      },
      "execution_count": null,
      "outputs": []
    },
    {
      "cell_type": "markdown",
      "source": [
        "### **Parámetros y Argumentos**\n",
        "\n",
        "Es clave diferenciar estos dos términos:\n",
        "\n",
        "- **Parámetro:** La variable dentro de los paréntesis en la *definición* de la función. Es un marcador de posición.\n",
        "- **Argumento:** El valor real que se envía a la función cuando se *llama*."
      ],
      "metadata": {
        "id": "rBeOfL9VUtrZ"
      }
    },
    {
      "cell_type": "code",
      "source": [
        "# \"nombre\" y \"edad\" son PARÁMETROS\n",
        "def generar_perfil(nombre, edad):\n",
        "    perfil = f\"Usuario: {nombre}, Edad: {edad} años.\"\n",
        "    return perfil\n",
        "\n",
        "# \"Ana\" y 28 son ARGUMENTOS posicionales (el orden importa)\n",
        "perfil_ana = generar_perfil(\"Ana\", 28)\n",
        "print(perfil_ana)\n",
        "\n",
        "# Usando argumentos de palabra clave (keyword arguments), el orden no importa\n",
        "perfil_juan = generar_perfil(edad=45, nombre=\"Juan\")\n",
        "print(perfil_juan)"
      ],
      "metadata": {
        "id": "diKwCUFPUuo1"
      },
      "execution_count": null,
      "outputs": []
    },
    {
      "cell_type": "markdown",
      "source": [
        "---\n",
        "\n",
        "### **1.3. ✨ Parámetros Avanzados y Flexibilidad**\n",
        "\n",
        "Python nos ofrece herramientas para hacer nuestras funciones mucho más flexibles.\n",
        "\n",
        "### **Valores por Defecto**\n",
        "\n",
        "Podemos asignar un valor por defecto a un parámetro. Si no se envía un argumento para ese parámetro, usará el valor predefinido."
      ],
      "metadata": {
        "id": "GrbtM7kNUx5j"
      }
    },
    {
      "cell_type": "code",
      "source": [
        "def crear_usuario(nombre, activo=True, rol=\"invitado\"):\n",
        "    \"\"\"Crea un usuario con un estado y rol por defecto.\"\"\"\n",
        "    print(f\"Creando usuario: {nombre}\")\n",
        "    print(f\"  - Rol: {rol}\")\n",
        "    print(f\"  - Activo: {activo}\")\n",
        "\n",
        "# Llamada simple, usa los valores por defecto\n",
        "crear_usuario(\"Diego\")\n",
        "\n",
        "# Llamada especificando un rol diferente\n",
        "crear_usuario(\"Maria\", rol=\"administrador\")"
      ],
      "metadata": {
        "id": "PfB2d6vmUyQ8"
      },
      "execution_count": null,
      "outputs": []
    },
    {
      "cell_type": "markdown",
      "source": [
        "> ⚠️ ¡Importante!\n",
        "Los parámetros con valores por defecto siempre deben definirse después de los parámetros que no tienen valores por defecto.\n",
        ">\n",
        "\n",
        "### **Argumentos de Longitud Variable (`args` y `*kwargs`)**\n",
        "\n",
        "A veces, no sabemos cuántos argumentos recibirá una función.\n",
        "\n",
        "- `args`: Agrupa un número variable de argumentos **posicionales** en una **tupla**.\n",
        "- `*kwargs`: Agrupa un número variable de argumentos de **palabra clave** en un **diccionario**."
      ],
      "metadata": {
        "id": "lRKcsM8SU2Bj"
      }
    },
    {
      "cell_type": "code",
      "source": [
        "# Ejemplo con *args para sumar cualquier cantidad de números\n",
        "def sumar_todo(*args):\n",
        "    \"\"\"Suma todos los números pasados como argumentos.\"\"\"\n",
        "    print(f\"Recibí estos números: {args}\")\n",
        "    total = 0\n",
        "    for numero in args:\n",
        "        total += numero\n",
        "    return total\n",
        "\n",
        "print(sumar_todo(1, 5, 10))       # Salida: 16\n",
        "print(sumar_todo(20, 30, 50, 100)) # Salida: 200\n",
        "\n",
        "# Ejemplo con **kwargs para construir un perfil\n",
        "def mostrar_detalles_personales(**kwargs):\n",
        "    \"\"\"Muestra los detalles de una persona.\"\"\"\n",
        "    print(f\"Detalles recibidos: {kwargs}\")\n",
        "    for clave, valor in kwargs.items():\n",
        "        print(f\"- {clave.capitalize()}: {valor}\")\n",
        "\n",
        "mostrar_detalles_personales(nombre=\"Carlos\", profesion=\"Ingeniero\", ciudad=\"Sogamoso\")"
      ],
      "metadata": {
        "id": "HsXkGk49U3f4"
      },
      "execution_count": null,
      "outputs": []
    },
    {
      "cell_type": "markdown",
      "source": [
        "---\n",
        "\n",
        "### **1.4. 🌐 Alcance de Variables (Scope)**\n",
        "\n",
        "El \"alcance\" o \"scope\" de una variable se refiere a la parte del programa donde esa variable es accesible.\n",
        "\n",
        "- **Variables Locales:** Se definen dentro de una función y solo existen dentro de ella. Son como herramientas que sacas para una tarea específica y luego guardas.\n",
        "- **Variables Globales:** Se definen fuera de cualquier función y son accesibles desde cualquier parte del script. Su uso excesivo es una mala práctica, ya que puede generar errores difíciles de rastrear."
      ],
      "metadata": {
        "id": "vT-KFvYOU5cN"
      }
    },
    {
      "cell_type": "code",
      "source": [
        "# Variable GLOBAL\n",
        "saldo_global = 1000\n",
        "\n",
        "def hacer_compra(precio):\n",
        "    # Variable LOCAL\n",
        "    impuesto = 0.19\n",
        "    costo_total = precio + (precio * impuesto)\n",
        "\n",
        "    # Podemos leer la variable global\n",
        "    print(f\"El saldo antes de la compra es: {saldo_global}\")\n",
        "\n",
        "    # ¡No podemos modificar una variable global directamente!\n",
        "    # Para hacerlo, necesitaríamos la palabra clave \"global\", pero es mejor evitarlo.\n",
        "    # saldo_global -= costo_total # Esto daría un error\n",
        "\n",
        "    print(f\"El costo total de la compra es: {costo_total}\")\n",
        "\n",
        "hacer_compra(100)\n",
        "# print(costo_total) # Esto daría un error, porque \"costo_total\" solo existe dentro de la función."
      ],
      "metadata": {
        "id": "xEChk8d2U6yd"
      },
      "execution_count": null,
      "outputs": []
    },
    {
      "cell_type": "markdown",
      "source": [
        "---\n",
        "\n",
        "### **1.5. 📝 Documentación y Buenas Prácticas**\n",
        "\n",
        "Un código funcional no es suficiente; debe ser un código legible y comprensible para otros (¡y para tu \"yo\" del futuro!).\n",
        "\n",
        "### **Docstrings**\n",
        "\n",
        "Son cadenas de texto literales que aparecen justo después de la definición de una función. Se usan para documentar lo que hace."
      ],
      "metadata": {
        "id": "_7uLUfuTU9fU"
      }
    },
    {
      "cell_type": "code",
      "source": [
        "def calcular_area_circulo(radio):\n",
        "    \"\"\"\n",
        "    Calcula el área de un círculo dado su radio.\n",
        "\n",
        "    Args:\n",
        "        radio (float): El radio del círculo. Debe ser un número positivo.\n",
        "\n",
        "    Returns:\n",
        "        float: El área calculada del círculo.\n",
        "    \"\"\"\n",
        "    if radio < 0:\n",
        "        return 0\n",
        "    return 3.14159 * (radio ** 2)\n",
        "\n",
        "# Las herramientas y los editores pueden mostrarte esta documentación\n",
        "help(calcular_area_circulo)"
      ],
      "metadata": {
        "id": "E2dGBgd7U-c2"
      },
      "execution_count": null,
      "outputs": []
    },
    {
      "cell_type": "markdown",
      "source": [
        "### **Type Hinting (Anotaciones de Tipo)**\n",
        "\n",
        "Es una forma moderna de indicar qué tipo de datos espera una función y qué tipo de dato devuelve. No cambia el comportamiento del código, pero mejora enormemente la legibilidad y permite que herramientas externas detecten errores."
      ],
      "metadata": {
        "id": "3g_RmdfYVAfK"
      }
    },
    {
      "cell_type": "code",
      "source": [
        "# La misma función, pero con Type Hints\n",
        "def calcular_area_circulo_tipado(radio: float) -> float:\n",
        "    \"\"\"\n",
        "    Calcula el área de un círculo dado su radio.\n",
        "\n",
        "    Args:\n",
        "        radio (float): El radio del círculo. Debe ser un número positivo.\n",
        "\n",
        "    Returns:\n",
        "        float: El área calculada del círculo.\n",
        "    \"\"\"\n",
        "    if radio < 0:\n",
        "        return 0.0 # Es buena práctica devolver el mismo tipo que se declara\n",
        "    return 3.14159 * (radio ** 2)\n",
        "\n",
        "area = calcular_area_circulo_tipado(10.5)\n",
        "print(f\"El área es: {area}\")"
      ],
      "metadata": {
        "id": "fRxOEVh7VBFI"
      },
      "execution_count": null,
      "outputs": []
    },
    {
      "cell_type": "markdown",
      "source": [
        "## **1.6. 📝 Funciones Lambda y Programación Funcional en Python**\n",
        "\n",
        "Las funciones lambda, también conocidas como funciones anónimas, son pequeñas funciones de una sola línea que se definen usando la palabra clave `lambda`. No requieren un nombre explícito y se utilizan para realizar operaciones simples. La sintaxis de una función lambda"
      ],
      "metadata": {
        "id": "hWJrfeewVEci"
      }
    },
    {
      "cell_type": "code",
      "source": [
        "add = lambda a, b: a + b\n",
        "print(add(10,4))\n",
        "\n",
        "multiply = lambda a, b: a * b\n",
        "print(multiply(80,5))\n",
        "\n",
        "#Cuadrado de cada numero\n",
        "numbers = range(11)\n",
        "squared_numbers = list(map(lambda x: x**2, numbers))\n",
        "print(\"Cuadrados:\", squared_numbers )\n",
        "\n",
        "#Pares\n",
        "even_numbers = list(filter(lambda x: x%2 == 0, numbers))\n",
        "print(\"Pares:\", even_numbers)\n",
        "\n",
        "#Impares\n",
        "impar_numbers = list(filter(lambda x: x%2  != 0, numbers))\n",
        "print('impares: ', impar_numbers)"
      ],
      "metadata": {
        "id": "X2oKKaFsVGRQ"
      },
      "execution_count": null,
      "outputs": []
    },
    {
      "cell_type": "markdown",
      "source": [
        "## **♾️ 1.7 Recursividad**\n",
        "\n",
        "La recursividad es una técnica de programación en la que una función se llama a sí misma para resolver un problema. Un problema se divide en subproblemas más pequeños y la función se llama recursivamente hasta que se alcanza una condición base que finaliza las llamadas recursivas.\n",
        "\n",
        "### Consideraciones sobre la Recursividad\n",
        "\n",
        "1. **Condición Base**: Es crucial definir correctamente una condición base para evitar llamadas recursivas infinitas.\n",
        "2. **Eficiencia**: Las implementaciones recursivas pueden ser ineficientes para problemas complejos debido a la sobrecarga de llamadas a funciones. En el caso de Fibonacci, una implementación recursiva simple tiene una complejidad exponencial `O(2^n)`. Esto puede mejorarse utilizando memorización o una implementación iterativa."
      ],
      "metadata": {
        "id": "6RTu0-60VHAH"
      }
    },
    {
      "cell_type": "code",
      "source": [
        "# Suma de numeros de recusiva\n",
        "def sum_numbers(n):\n",
        "    # Caso base: si n es 0, la suma es 0\n",
        "    if n == 0:\n",
        "        return 0\n",
        "    # Caso recursivo: n + suma de (n-1)\n",
        "    else:\n",
        "        return n + sum_numbers(n - 1)\n",
        "\n",
        "result = sum_numbers(5)\n",
        "print(f\"Suma de los primeros 5 números es: {result}\")\n",
        "\n",
        "# Serie Fibonacci recusiva\n",
        "def fibonacci_memo(n, memo={}):\n",
        "    if n in memo:\n",
        "        return memo[n]\n",
        "    if n == 0:\n",
        "        return 0\n",
        "    elif n == 1:\n",
        "        return 1\n",
        "    else:\n",
        "        memo[n] = fibonacci_memo(n - 1, memo) + fibonacci_memo(n - 2, memo)\n",
        "        return memo[n]\n",
        "\n",
        "print(fibonacci_memo(10))  # Salida: 55"
      ],
      "metadata": {
        "id": "z0SkIppuVKaU"
      },
      "execution_count": null,
      "outputs": []
    },
    {
      "cell_type": "markdown",
      "source": [
        "## **Parte 2: 🔧 Refactorización y Aplicación Práctica**\n",
        "\n",
        "Ahora que entendemos qué son las funciones, es hora de usarlas para mejorar nuestro código. Este proceso de reestructurar y limpiar el código existente sin cambiar su comportamiento se llama **refactorización**.\n",
        "\n",
        "### **2.1. El Arte de Refactorizar**\n",
        "\n",
        "Refactorizar es como ordenar una caja de herramientas desordenada. Al principio, todas las herramientas están mezcladas, pero el trabajo se puede hacer. Sin embargo, si organizas las herramientas por tipo (destornilladores en un cajón, llaves en otro), la próxima vez que necesites algo, lo encontrarás mucho más rápido y tu trabajo será más eficiente.\n",
        "\n",
        "> 💡 Principio DRY: Don't Repeat Yourself (No te repitas)\n",
        ">\n",
        ">\n",
        "> Este es uno de los principios más importantes de la programación. Si te encuentras copiando y pegando el mismo bloque de código en varios lugares, es una señal clara de que ese bloque debería convertirse en una **función**. Repetir código es peligroso: si encuentras un error, ¡tendrás que arreglarlo en todos los lugares donde lo pegaste!\n",
        ">\n",
        "\n",
        "### **2.2. Taller Práctico: De Script a Programa Modular**\n",
        "\n",
        "Vamos a tomar el \"Ejemplo Práctico Integrador\" del Módulo 2 y lo vamos a refactorizar.\n",
        "\n",
        "### **El Código Original (Nuestro \"Antes\")**\n",
        "\n",
        "Este script funciona, pero toda la lógica está mezclada en un solo bloque. Es difícil de leer y aún más difícil de reutilizar o modificar."
      ],
      "metadata": {
        "id": "6YZgcRgHVLqG"
      }
    },
    {
      "cell_type": "code",
      "source": [
        "print(\"--- Bienvenido al sistema de validación de entradas ---\")\n",
        "\n",
        "# --- BLOQUE 1: OBTENER DATOS ---\n",
        "try:\n",
        "    edad = int(input(\"Por favor, introduce tu edad: \"))\n",
        "    tipo_entrada = input(\"¿Qué tipo de entrada tienes (VIP, General o Estudiante)?: \").upper()\n",
        "except ValueError:\n",
        "    print(\"Error: La edad debe ser un número válido.\")\n",
        "    exit()\n",
        "\n",
        "# --- BLOQUE 2: VALIDAR EDAD ---\n",
        "mensaje_acceso = \"\"\n",
        "if not (0 < edad < 100):\n",
        "    print(\"Por favor, introduce una edad realista.\")\n",
        "elif edad < 18:\n",
        "    print(\"Lo sentimos, este evento es solo para mayores de 18 años.\")\n",
        "else:\n",
        "    # --- BLOQUE 3: GESTIONAR TIPO DE ENTRADA ---\n",
        "    print(f\"Edad verificada ({edad} años). Verificando entrada tipo {tipo_entrada}...\")\n",
        "    match tipo_entrada:\n",
        "        case \"VIP\":\n",
        "            mensaje_acceso = \"Acceso concedido a la zona VIP. ¡Disfruta!\"\n",
        "        case \"GENERAL\":\n",
        "            mensaje_acceso = \"Acceso concedido a la zona general. ¡Disfruta del evento!\"\n",
        "        case \"ESTUDIANTE\":\n",
        "            mensaje_acceso = \"Acceso concedido. Recuerda mostrar tu carné de estudiante.\"\n",
        "        case _:\n",
        "            mensaje_acceso = \"Error: El tipo de entrada no es válido.\"\n",
        "\n",
        "    print(mensaje_acceso)\n",
        "\n",
        "    # --- BLOQUE 4: MENSAJE ADICIONAL ---\n",
        "    if mensaje_acceso.startswith(\"Acceso\"):\n",
        "        mensaje_bebida = \"Pasa a la barra por una bebida de cortesía.\" if tipo_entrada == \"VIP\" else \"Puedes comprar bebidas en la barra.\"\n",
        "        print(mensaje_bebida)"
      ],
      "metadata": {
        "id": "z9_aLzuGVQOX"
      },
      "execution_count": null,
      "outputs": []
    },
    {
      "cell_type": "markdown",
      "source": [
        "### **El Código Refactorizado (Nuestro \"Después\")**\n",
        "\n",
        "Ahora, vamos a identificar cada bloque lógico y a convertirlo en una función con una única responsabilidad. El resultado es un programa mucho más claro y profesional."
      ],
      "metadata": {
        "id": "9J_oXFZxVTYo"
      }
    },
    {
      "cell_type": "code",
      "source": [
        "# Módulo 3: Versión refactorizada del sistema de validación\n",
        "\n",
        "def obtener_datos_usuario() -> tuple | None:\n",
        "    \"\"\"Pide al usuario su edad y tipo de entrada. Devuelve una tupla (edad, tipo) o None si hay un error.\"\"\"\n",
        "    try:\n",
        "        edad = int(input(\"Por favor, introduce tu edad: \"))\n",
        "        tipo_entrada = input(\"¿Qué tipo de entrada tienes (VIP, General o Estudiante)?: \").upper()\n",
        "        return edad, tipo_entrada\n",
        "    except ValueError:\n",
        "        print(\"Error: La edad debe ser un número válido.\")\n",
        "        return None\n",
        "\n",
        "def validar_edad(edad: int) -> bool:\n",
        "    \"\"\"Valida la edad del usuario. Devuelve True si es válida, False en caso contrario.\"\"\"\n",
        "    if not (0 < edad < 100):\n",
        "        print(\"Por favor, introduce una edad realista.\")\n",
        "        return False\n",
        "    if edad < 18:\n",
        "        print(\"Lo sentimos, este evento es solo para mayores de 18 años.\")\n",
        "        return False\n",
        "    return True\n",
        "\n",
        "def gestionar_acceso_por_entrada(tipo_entrada: str) -> str:\n",
        "    \"\"\"Determina el mensaje de acceso según el tipo de entrada.\"\"\"\n",
        "    match tipo_entrada:\n",
        "        case \"VIP\":\n",
        "            return \"Acceso concedido a la zona VIP. ¡Disfruta!\"\n",
        "        case \"GENERAL\":\n",
        "            return \"Acceso concedido a la zona general. ¡Disfruta del evento!\"\n",
        "        case \"ESTUDIANTE\":\n",
        "            return \"Acceso concedido. Recuerda mostrar tu carné de estudiante.\"\n",
        "        case _:\n",
        "            return \"Error: El tipo de entrada no es válido.\"\n",
        "\n",
        "def generar_mensaje_adicional(tipo_entrada: str) -> str:\n",
        "    \"\"\"Genera un mensaje sobre bebidas basado en el tipo de entrada.\"\"\"\n",
        "    return \"Pasa a la barra por una bebida de cortesía.\" if tipo_entrada == \"VIP\" else \"Puedes comprar bebidas en la barra.\"\n",
        "\n",
        "def main():\n",
        "    \"\"\"Función principal que orquesta el programa.\"\"\"\n",
        "    print(\"--- Bienvenido al sistema de validación de entradas (v2.0 Modular) ---\")\n",
        "\n",
        "    datos = obtener_datos_usuario()\n",
        "    if datos is None:\n",
        "        return # Termina el programa si hubo un error en los datos\n",
        "\n",
        "    edad_usuario, tipo_entrada_usuario = datos\n",
        "\n",
        "    if validar_edad(edad_usuario):\n",
        "        print(f\"Edad verificada ({edad_usuario} años). Verificando entrada tipo {tipo_entrada_usuario}...\")\n",
        "\n",
        "        mensaje_acceso = gestionar_acceso_por_entrada(tipo_entrada_usuario)\n",
        "        print(mensaje_acceso)\n",
        "\n",
        "        if mensaje_acceso.startswith(\"Acceso\"):\n",
        "            mensaje_bebida = generar_mensaje_adicional(tipo_entrada_usuario)\n",
        "            print(mensaje_bebida)\n",
        "\n",
        "# --- Punto de entrada del programa ---\n",
        "if __name__ == \"__main__\":\n",
        "    main()"
      ],
      "metadata": {
        "id": "ndtFYzOKVUan"
      },
      "execution_count": null,
      "outputs": []
    },
    {
      "cell_type": "markdown",
      "source": [
        "### **🎉 ¿Qué hemos ganado con la refactorización?**\n",
        "\n",
        "1. **Legibilidad:** El código en la función `main` ahora se lee casi como un resumen en español de lo que hace el programa: obtener datos, validar la edad, gestionar el acceso.\n",
        "2. **Reutilización:** Si en el futuro necesitamos `validar_edad` en otra parte del programa, ¡ya tenemos la función lista para ser usada!\n",
        "3. **Facilidad de Pruebas:** Es mucho más fácil probar la función `gestionar_acceso_por_entrada` de forma aislada que probar todo el script original.\n",
        "4. **Mantenimiento Sencillo:** Si necesitamos cambiar las reglas de edad, solo modificamos la función `validar_edad` sin tocar el resto del código.\n",
        "\n",
        "# **Parte 3: 💾 Manejo Básico de Archivos (Persistencia de Datos)**\n",
        "\n",
        "Hasta ahora, toda la información que manejan nuestros programas (los valores en las variables) desaparece en cuanto el script termina. Para guardar datos de forma permanente, necesitamos escribirlos en un **archivo**. Este concepto se llama **persistencia de datos**.\n",
        "\n",
        "Los archivos planos son esenciales para la persistencia de datos, la configuración de aplicaciones y el intercambio de información. Python, con su filosofía de \"baterías incluidas\", ofrece módulos robustos en su librería estándar, y su ecosistema de paquetes externos como Pandas lleva la manipulación de datos a otro nivel.\n",
        "\n",
        "### **3.1. Fundamentos de Archivos**\n",
        "\n",
        "- **¿Qué es la persistencia?** Es la capacidad de un programa para guardar su estado o sus datos para que puedan ser recuperados más tarde, incluso después de que el programa se haya cerrado.\n",
        "- **Archivos de Texto vs. Binarios:**\n",
        "    - **Archivos de texto (`.txt`, `.csv`, `.json`, `.md`):** Almacenan información en formato de caracteres legibles por humanos. Son ideales para empezar y es en lo que nos enfocaremos.\n",
        "    - **Archivos binarios (`.jpg`, `.mp3`, `.exe`):** Almacenan datos en forma de bytes (ceros y unos) que no son directamente legibles. Requieren un software específico para interpretarlos.\n",
        "- **Rutas de Archivos:**\n",
        "    - **Ruta Relativa:** `datos/contactos.txt`. La ubicación es relativa a la carpeta donde se está ejecutando tu script. Es la más común y portable.\n",
        "    - **Ruta Absoluta:** `C:\\Usuarios\\Diego\\Documentos\\proyecto\\datos\\contactos.txt`. La ubicación completa desde la raíz del sistema de archivos.\n",
        "\n",
        "### **3.2. Lectura y Escritura de Archivos de Texto**\n",
        "\n",
        "### **1. Archivos de Texto Plano (.txt)**\n",
        "\n",
        "Son la forma más básica. Simples secuencias de caracteres, ideales para logs, notas o datos sin una estructura tabular compleja.\n",
        "\n",
        "- **Ventajas:**\n",
        "    - **✅ Universalidad:** Cualquier sistema o editor puede leerlos y escribirlos.\n",
        "    - **✅ Simplicidad:** No requieren librerías especiales para su manipulación básica.\n",
        "    - **✅ Ligeros:** Ocupan el mínimo espacio posible.\n",
        "- **Desventajas:**\n",
        "    - **❌ Falta de Estructura:** No hay un estándar para delimitar datos, lo que te obliga a crear tu propia lógica de *parsing* (dividir el texto).\n",
        "    - **❌ Sin Tipos de Datos:** Todo es una cadena de texto (`string`). Necesitas convertir manualmente números o fechas.\n",
        "\n",
        "La forma moderna, segura y recomendada para trabajar con archivos en Python es usando un **manejador de contexto (`with`)**.\n",
        "\n",
        "> 🏆 Práctica Profesional: Siempre usa with open(...)\n",
        ">\n",
        ">\n",
        "> La sintaxis `with open(...) as archivo:` garantiza que Python cerrará el archivo automáticamente por ti, incluso si ocurren errores inesperados en tu código. Olvidar cerrar un archivo puede corromperlo o causar problemas en tu aplicación. ¡Esta es la forma correcta de hacerlo!\n",
        ">\n",
        "\n",
        "### **Modos de Apertura de Archivos**\n",
        "\n",
        "Cuando abres un archivo, debes decirle a Python *qué* quieres hacer con él. Esto se especifica con el \"modo\".\n",
        "\n",
        "- `'r'` → **Read (Lectura):** Abre un archivo para leer su contenido. Es el modo por defecto. Si el archivo no existe, produce un error.\n",
        "- `'w'` → **Write (Escritura):** Abre un archivo para escribir. Si el archivo no existe, lo crea. **⚠️ ¡Atención! Si el archivo ya existe, borra todo su contenido antes de escribir.**\n",
        "- `'a'` → **Append (Añadir):** Abre un archivo para añadir contenido al final. Si el archivo no existe, lo crea. No borra el contenido existente.\n",
        "- `'x'` → **Exclusive Creation (Creación Exclusiva):** Crea un nuevo archivo y lo abre para escritura. Si el archivo ya existe, produce un error.\n",
        "\n",
        "### **Escribiendo en un Archivo**\n",
        "\n",
        "Usemos el modo `'w'` para crear un nuevo archivo y `'a'` para añadirle más contenido."
      ],
      "metadata": {
        "id": "9cMIFKqLVX0e"
      }
    },
    {
      "cell_type": "code",
      "source": [
        "# --- 1. Escribiendo un archivo desde cero con el modo 'w' ---\n",
        "lineas_a_escribir = [\n",
        "    \"Manzanas\\n\",\n",
        "    \"Peras\\n\",\n",
        "    \"Naranjas\\n\"\n",
        "]\n",
        "\n",
        "# El archivo \"lista_compras.txt\" se creará (o se sobrescribirá si ya existe)\n",
        "with open(\"lista_compras.txt\", \"w\") as archivo:\n",
        "    archivo.write(\"--- Mi Lista de Compras ---\\n\")\n",
        "    archivo.writelines(lineas_a_escribir)\n",
        "    print(\"Archivo 'lista_compras.txt' creado exitosamente.\")\n",
        "\n",
        "# --- 2. Añadiendo más contenido con el modo 'a' ---\n",
        "with open(\"lista_compras.txt\", \"a\") as archivo:\n",
        "    archivo.write(\"Uvas\\n\")\n",
        "    print(\"Se ha añadido un nuevo ítem a la lista.\")\n"
      ],
      "metadata": {
        "id": "HpmEx2dBVZq1"
      },
      "execution_count": null,
      "outputs": []
    },
    {
      "cell_type": "markdown",
      "source": [
        "> ✍️ Nota importante:\n",
        "La función .write() no añade un salto de línea por sí sola. Debes incluir explícitamente el carácter de nueva línea \\n si quieres que cada texto se escriba en una línea separada.\n",
        ">\n",
        "\n",
        "### **Leyendo desde un Archivo**\n",
        "\n",
        "Ahora que nuestro archivo `lista_compras.txt` existe, veamos las diferentes formas de leer su contenido."
      ],
      "metadata": {
        "id": "i4A8uqbvVbt-"
      }
    },
    {
      "cell_type": "code",
      "source": [
        "# Asumimos que \"lista_compras.txt\" ya existe por el código anterior\n",
        "\n",
        "print(\"\\n--- Leyendo el archivo completo con .read() ---\")\n",
        "with open(\"lista_compras.txt\", \"r\") as archivo:\n",
        "    contenido_completo = archivo.read()\n",
        "    print(contenido_completo)\n",
        "\n",
        "print(\"\\n--- Leyendo línea por línea con .readline() ---\")\n",
        "with open(\"lista_compras.txt\", \"r\") as archivo:\n",
        "    linea1 = archivo.readline()\n",
        "    linea2 = archivo.readline()\n",
        "    print(f\"Primera línea: {linea1.strip()}\") # .strip() quita los saltos de línea\n",
        "    print(f\"Segunda línea: {linea2.strip()}\")\n",
        "\n",
        "print(\"\\n--- Leyendo todas las líneas en una lista con .readlines() ---\")\n",
        "with open(\"lista_compras.txt\", \"r\") as archivo:\n",
        "    todas_las_lineas = archivo.readlines()\n",
        "    print(todas_las_lineas)\n",
        "    # Salida: ['--- Mi Lista de Compras ---\\n', 'Manzanas\\n', ...]\n"
      ],
      "metadata": {
        "id": "AlgyEe_WVdPP"
      },
      "execution_count": null,
      "outputs": []
    },
    {
      "cell_type": "markdown",
      "source": [
        "> ✅ Método recomendado para leer archivos:\n",
        ">\n",
        ">\n",
        "> La forma más eficiente y \"Pythónica\" de leer un archivo línea por línea es iterar directamente sobre el objeto archivo. Es fácil de leer y funciona perfectamente incluso con archivos gigantescos, ya que no carga todo el contenido en la memoria de una sola vez.\n",
        ">"
      ],
      "metadata": {
        "id": "gv-AR4X8Vgne"
      }
    },
    {
      "cell_type": "code",
      "source": [
        "print(\"\\n--- Leyendo con un bucle for (método recomendado) ---\")\n",
        "with open(\"lista_compras.txt\", \"r\") as archivo:\n",
        "    for numero_linea, linea in enumerate(archivo, 1):\n",
        "        print(f\"Línea {numero_linea}: {linea.strip()}\")\n",
        "\n",
        "#Example 2\n",
        "# Escribir en un archivo .txt\n",
        "with open('registro_sena.txt', 'w', encoding='utf-8') as archivo:\n",
        "    archivo.write(\"Línea 1: Inicio de registro.\\n\")\n",
        "    archivo.write(\"Línea 2: Proceso completado.\\n\")\n",
        "\n",
        "# Leer el contenido de un archivo .txt\n",
        "with open('registro_sena.txt', 'r', encoding='utf-8') as archivo:\n",
        "    for linea in archivo:\n",
        "        print(linea.strip()) # .strip() elimina saltos de línea y espacios\n"
      ],
      "metadata": {
        "id": "Cg1HPdGAViGQ"
      },
      "execution_count": null,
      "outputs": []
    },
    {
      "cell_type": "markdown",
      "source": [
        "---\n",
        "\n",
        "### **2. Archivos CSV (Valores Separados por Comas)**\n",
        "\n",
        "El estándar de facto para datos tabulares (filas y columnas), como los de una hoja de cálculo.\n",
        "\n",
        "- **Ventajas:**\n",
        "    - **✅ Estructura Clara:** Perfectos para datos que encajan en una tabla.\n",
        "    - **✅ Compactos:** Ocupan menos espacio que formatos más verbosos como JSON para la misma data tabular.\n",
        "    - **✅ Amplia Compatibilidad:** Soportados por Excel, Google Sheets y casi todas las herramientas de datos.\n",
        "- **Desventajas:**\n",
        "    - **❌ Sin Tipos de Datos:** Al igual que el .txt, todo se interpreta como texto inicialmente.\n",
        "    - **❌ No Jerárquicos:** No son adecuados para representar datos anidados o relaciones complejas.\n",
        "    - **❌ Problemas con Delimitadores:** Si tus datos contienen comas, necesitarás un manejo especial (usualmente, encerrando el texto entre comillas dobles)."
      ],
      "metadata": {
        "id": "wWJoqw-nVkeP"
      }
    },
    {
      "cell_type": "markdown",
      "source": [
        "- **Herramientas y Opciones:**\n",
        "    - **Módulo `csv` (Librería Estándar):** Proporciona funciones para leer y escribir datos fila por fila, ya sea como listas o diccionarios."
      ],
      "metadata": {
        "id": "BUhK6abkVpZu"
      }
    },
    {
      "cell_type": "code",
      "source": [
        "import csv\n",
        "\n",
        "# Escribir en un archivo CSV\n",
        "with open('aprendices.csv', 'w', newline='', encoding='utf-8') as csvfile:\n",
        "    writer = csv.writer(csvfile)\n",
        "    writer.writerow(['nombre', 'programa', 'ficha'])\n",
        "    writer.writerow(['Ana', 'ADSO', '2556080'])\n",
        "    writer.writerow(['Luis', 'Sistemas', '2458091'])\n",
        "\n",
        "# Leer un archivo CSV como diccionarios\n",
        "with open('aprendices.csv', 'r', encoding='utf-8') as csvfile:\n",
        "    reader = csv.DictReader(csvfile)\n",
        "    for row in reader:\n",
        "        print(f\"{row['nombre']} está en la ficha {row['ficha']}.\")"
      ],
      "metadata": {
        "id": "tHQ5GgHwVubv"
      },
      "execution_count": null,
      "outputs": []
    },
    {
      "cell_type": "markdown",
      "source": [
        "- **Paquete `pandas` (Externo):** **La herramienta más potente y recomendada para datos tabulares**. Transforma los datos en un `DataFrame`, una estructura de datos bidimensional optimizada para análisis y manipulación."
      ],
      "metadata": {
        "id": "Qf_-F5bOVxe3"
      }
    },
    {
      "cell_type": "code",
      "source": [
        "# Se requiere instalar: pip install pandas\n",
        "import pandas as pd\n",
        "\n",
        "# Leer un CSV con una sola línea es muy fácil\n",
        "df = pd.read_csv('aprendices.csv')\n",
        "print(df)\n",
        "\n",
        "# Agregar datos y guardar es igual de simple\n",
        "nuevo_aprendiz = {'nombre': 'Maria', 'programa': 'ADSO', 'ficha': '2556080'}\n",
        "df.loc[len(df)] = nuevo_aprendiz\n",
        "df.to_csv('aprendices_actualizado.csv', index=False) # index=False evita guardar una columna extra con el índice"
      ],
      "metadata": {
        "id": "2gRH_8ZdYffr"
      },
      "execution_count": null,
      "outputs": []
    },
    {
      "cell_type": "markdown",
      "source": [
        "---\n",
        "\n",
        "### **3. Archivos JSON (JavaScript Object Notation)**\n",
        "\n",
        "El formato predilecto para APIs web y archivos de configuración. Su estructura de pares clave-valor es un mapa directo a los diccionarios de Python, lo que lo hace extremadamente intuitivo.\n",
        "\n",
        "- **Ventajas:**\n",
        "    - **✅ Soporta Jerarquía:** Permite anidar objetos y listas, ideal para datos complejos.\n",
        "    - **✅ Preserva Tipos de Datos:** Diferencia entre strings, números, booleanos y nulos (`null`).\n",
        "    - **✅ Muy Legible:** Su sintaxis es clara tanto para humanos como para máquinas.\n",
        "- **Desventajas:**\n",
        "    - **❌ Más Verboso:** Tiende a ser más pesado que un CSV para datos tabulares, ya que repite las claves en cada objeto.\n",
        "    - **❌ Menos Eficiente para Análisis Tabular:** No es el formato ideal para cargar millones de filas en herramientas de análisis de datos como Pandas."
      ],
      "metadata": {
        "id": "uLLAvkbXYtA_"
      }
    },
    {
      "cell_type": "markdown",
      "source": [
        "- **Herramientas y Opciones:**\n",
        "    - **Módulo `json` (Librería Estándar):** Es la solución perfecta y completa. Sus métodos `dump()` (escribir objeto Python a JSON) y `load()` (leer JSON a objeto Python) son directos y eficientes."
      ],
      "metadata": {
        "id": "m__MwH23YwmO"
      }
    },
    {
      "cell_type": "code",
      "source": [
        "import json\n",
        "\n",
        "datos_programa = {\n",
        "    \"nombre\": \"Análisis y Desarrollo de Software (ADSO)\",\n",
        "    \"ficha\": 2556080,\n",
        "    \"activo\": True,\n",
        "    \"aprendices\": [\n",
        "        {\"nombre\": \"Ana\", \"promedio\": 4.5},\n",
        "        {\"nombre\": \"Luis\", \"promedio\": 4.2}\n",
        "    ]\n",
        "}\n",
        "\n",
        "# Escribir un diccionario de Python a un archivo JSON\n",
        "with open('programa.json', 'w', encoding='utf-8') as f:\n",
        "    # indent=4 hace que el archivo sea legible para humanos\n",
        "    json.dump(datos_programa, f, indent=4, ensure_ascii=False)\n",
        "\n",
        "# Leer un archivo JSON y convertirlo en un diccionario de Python\n",
        "with open('programa.json', 'r', encoding='utf-8') as f:\n",
        "    data = json.load(f)\n",
        "    print(f\"El programa se llama: {data['nombre']}\")"
      ],
      "metadata": {
        "id": "gQX2e83SY0Lr"
      },
      "execution_count": null,
      "outputs": []
    },
    {
      "cell_type": "markdown",
      "source": [
        "---\n",
        "\n",
        "### **4. Pickle: La Serialización Nativa de Python**\n",
        "\n",
        "A diferencia de CSV o JSON, que son formatos de texto legibles por humanos, **Pickle** es un protocolo binario específico de Python. Su propósito no es el intercambio de datos entre diferentes lenguajes, sino la **serialización** de objetos de Python.\n",
        "\n",
        "**Serializar** es el proceso de convertir un objeto en memoria (como un diccionario, una lista, o incluso una instancia de una clase que tú hayas creado) en un flujo de bytes que puede ser guardado en un archivo o transmitido por la red. El proceso inverso se llama **deserialización**.\n",
        "\n",
        "- **Ventajas:**\n",
        "    - **✅ Soporta Casi Cualquier Objeto Python:** Esta es su mayor fortaleza. Puede serializar prácticamente todo, incluyendo instancias de clases personalizadas, funciones y estructuras de datos complejas que JSON no puede manejar.\n",
        "    - **✅ Preserva los Tipos de Datos Nativamente:** Guarda los objetos tal cual son, sin necesidad de conversiones. Un `datetime` sigue siendo un `datetime`, un objeto `Decimal` sigue siendo `Decimal`.\n",
        "    - **✅ Eficiencia:** Para estructuras de datos complejas y puramente de Python, puede ser más rápido y generar archivos más compactos que la serialización a JSON.\n",
        "- **Desventajas:**\n",
        "    - **⚠️ ¡RIESGO DE SEGURIDAD MAYÚSCULO!:** Este es el punto más crítico. **Nunca, bajo ninguna circunstancia, deserialices (unpickle) datos de una fuente no confiable o no autenticada**. El formato pickle puede contener código ejecutable. Alguien podría crear un archivo pickle malicioso que, al ser cargado, ejecute código arbitrario en tu sistema.\n",
        "    - **❌ Específico de Python:** Un archivo pickle generado en Python no puede ser leído por otros lenguajes como Java, JavaScript o C#. No es un formato para interoperabilidad.\n",
        "    - **❌ Sensible a la Versión:** Un archivo pickle creado con una versión de Python puede no ser compatible con otra. Esto lo hace poco fiable para el almacenamiento de datos a largo plazo."
      ],
      "metadata": {
        "id": "FuqQrf2OY2hx"
      }
    },
    {
      "cell_type": "markdown",
      "source": [
        "- **Herramientas y Opciones:**\n",
        "    - **Módulo `pickle` (Librería Estándar):** Es la herramienta nativa. Su uso es muy similar al del módulo `json`."
      ],
      "metadata": {
        "id": "TsW4YvNlZCYH"
      }
    },
    {
      "cell_type": "code",
      "source": [
        "import pickle\n",
        "\n",
        "# Vamos a usar una clase personalizada para ver el poder de pickle\n",
        "class Aprendiz:\n",
        "    def __init__(self, nombre, ficha):\n",
        "        self.nombre = nombre\n",
        "        self.ficha = ficha\n",
        "        self.programas = ['Python', 'Bases de Datos']\n",
        "\n",
        "    def mostrar_info(self):\n",
        "        print(f\"Soy {self.nombre} de la ficha {self.ficha}.\")\n",
        "\n",
        "# 1. Creamos una instancia de nuestra clase\n",
        "aprendiz_obj = Aprendiz(\"Carlos\", \"2556080\")\n",
        "\n",
        "# 2. Serializamos (guardamos) el objeto en un archivo\n",
        "#    Se usa el modo 'wb' (write binary)\n",
        "with open('aprendiz.pkl', 'wb') as archivo:\n",
        "    pickle.dump(aprendiz_obj, archivo)\n",
        "\n",
        "# 3. Deserializamos (cargamos) el objeto desde el archivo\n",
        "#    Se usa el modo 'rb' (read binary)\n",
        "with open('aprendiz.pkl', 'rb') as archivo:\n",
        "    aprendiz_cargado = pickle.load(archivo)\n",
        "\n",
        "# El objeto cargado es una instancia completamente funcional de la clase\n",
        "print(type(aprendiz_cargado))\n",
        "# <class '__main__.Aprendiz'>\n",
        "\n",
        "aprendiz_cargado.mostrar_info()\n",
        "# Salida: Soy Carlos de la ficha 2556080."
      ],
      "metadata": {
        "id": "-eNj86s_ZF63"
      },
      "execution_count": null,
      "outputs": []
    },
    {
      "cell_type": "markdown",
      "source": [
        "### **Tabla Comparativa Actualizada**\n",
        "\n",
        "| Criterio | Archivo de Texto (.txt) | CSV | JSON | Pickle |\n",
        "| --- | --- | --- | --- | --- |\n",
        "| **Formato** | .txt | .csv | .json | **Binario** |\n",
        "| **Estructura** | Ninguna | Tabular (Filas y Columnas) | Jerárquica (Clave-Valor) | **Cualquier objeto Python** |\n",
        "| **Legibilidad Humana** | Si | Sí | Sí | **No** |\n",
        "| **Interoperabilidad** | Logs, notas, texto simple | Alta | Muy Alta | **Solo Python** |\n",
        "| **Seguridad** | Básica | Seguro | Seguro | **⚠️ Inseguro (con fuentes no confiables)** |\n",
        "| **Caso de Uso Ideal** | Logs, notas, texto simple | Datos tabulares, Hojas de cálculo, exportaciones de bases de datos | APIs, archivos de configuración, datos anidados | **Guardar estado de un programa Python, Machine Learning, caché** |\n",
        "| **Librería Estándar** | `open()` | `csv` | `json` | `pickle` |\n",
        "| **Paquete Recomendado** | N/A | **`pandas`** | `json` (nativo es excelente) | N/A |\n",
        "\n",
        "**Recomendación como experto:**\n",
        "\n",
        "- Para cualquier tarea que involucre **datos tabulares** (lectura, escritura, limpieza, análisis), usa **Pandas** sin dudarlo. Su poder y simplicidad te ahorrarán incontables horas de trabajo.\n",
        "- Para **interactuar con APIs**, guardar **configuraciones** o manejar datos con estructura compleja, el módulo **`json`** es tu mejor aliado.\n",
        "- Reserva el uso de **archivos .txt básicos** para cuando realmente solo necesites leer o escribir líneas de texto sin una estructura definida, como en la creación de archivos de registro.\n",
        "- Piensa en **Pickle** como una herramienta especializada para \"congelar\" y \"descongelar\" el estado de tus objetos Python.\n",
        "    - **Úsalo** cuando necesites guardar temporalmente el estado de tu aplicación Python, para pasar objetos complejos entre procesos de Python (por ejemplo, en computación paralela) o para guardar modelos de Machine Learning entrenados.\n",
        "    - **Nunca lo uses** para comunicarte con sistemas externos, para almacenar datos a largo plazo o, y esto es lo más importante que debes enseñar, **nunca cargues un archivo pickle que hayas descargado de internet o recibido de una fuente en la que no confíes al 100%**.\n",
        "\n",
        "# Profundizacion en JSON\n",
        "\n",
        "### 1. ¿Qué es JSON? 🤔\n",
        "\n",
        "Antes de tocar una sola línea de código, es fundamental entender qué es JSON y por qué es tan popular.\n",
        "\n",
        "**JSON** son las siglas de **J**ava**S**cript **O**bject **N**otation (Notación de Objeto de JavaScript).\n",
        "\n",
        "Piénsalo como un **estándar o formato para intercambiar datos**. Imagina que necesitas enviar una lista de compras de tu teléfono a una aplicación en tu computador. Necesitas un \"idioma\" o \"formato\" que ambos entiendan perfectamente. JSON es ese idioma universal.\n",
        "\n",
        "**Características principales:**\n",
        "\n",
        "- **Ligero:** Los archivos y textos en formato JSON son muy pequeños, lo que los hace rápidos de enviar y recibir a través de internet.\n",
        "- **Legible para humanos:** Su sintaxis es limpia y fácil de entender a simple vista, a diferencia de otros formatos como XML que pueden ser más verbosos.\n",
        "- **Fácil de procesar por máquinas:** A los lenguajes de programación como Python les resulta muy sencillo \"leer\" (parsear) y \"escribir\" (generar) datos en este formato.\n",
        "\n",
        "**¿Dónde se usa?** Principalmente en:\n",
        "\n",
        "- **APIs Web:** Es el formato más común para que las aplicaciones web (como Facebook, Google Maps, Twitter) envíen y reciban datos.\n",
        "- **Archivos de configuración:** Muchos programas guardan sus ajustes y configuraciones en archivos `.json`.\n",
        "- **Bases de datos NoSQL:** Bases de datos como MongoDB usan una estructura muy similar a JSON.\n",
        "\n",
        "---\n",
        "\n",
        "### 2. La Sintaxis de JSON: Sus Reglas del Juego\n",
        "\n",
        "JSON tiene unas reglas muy sencillas que se basan en dos estructuras principales:\n",
        "\n",
        "1. **Objetos:** Colecciones de pares `clave/valor`.\n",
        "2. **Arreglos (Arrays):** Listas ordenadas de valores.\n",
        "\n",
        "**Las reglas son:**\n",
        "\n",
        "- Un **objeto** se define con llaves `{}`. Dentro, contiene pares de clave y valor.\n",
        "    - La **clave** (key) debe ser una cadena de texto y siempre va entre comillas dobles `\"\"`.\n",
        "    - El **valor** (value) viene después de dos puntos `:`.\n",
        "    - Los pares se separan por comas `,`.\n",
        "- Un **arreglo** (array) se define con corchetes `[]` y contiene una lista de valores separados por comas.\n",
        "- Los **valores** pueden ser de los siguientes tipos:\n",
        "    - `string` (cadena de texto, siempre con comillas dobles).\n",
        "    - `number` (número, entero o decimal, sin comillas).\n",
        "    - `object` (otro objeto JSON anidado).\n",
        "    - `array` (un arreglo).\n",
        "    - `boolean` (`true` o `false`, sin comillas).\n",
        "    - `null` (representa un valor nulo o vacío, sin comillas).\n",
        "\n",
        "**Ejemplo Básico de un Objeto JSON:**"
      ],
      "metadata": {
        "id": "Vi8ZY2tJZLnr"
      }
    },
    {
      "cell_type": "code",
      "source": [
        "{\n",
        "  \"nombre\": \"Juan Pérez\",\n",
        "  \"edad\": 22,\n",
        "  \"esActivo\": true,\n",
        "  \"cursos\": [\n",
        "    \"Desarrollo de Software\",\n",
        "    \"Bases de Datos\"\n",
        "  ],\n",
        "  \"direccion\": null\n",
        "}"
      ],
      "metadata": {
        "id": "fVgi16XYZOvJ"
      },
      "execution_count": null,
      "outputs": []
    },
    {
      "cell_type": "markdown",
      "source": [
        "---\n",
        "\n",
        "### 3. JSON en Python: El Módulo `json`\n",
        "\n",
        "¡La mejor parte es que Python ya viene con todo lo necesario para trabajar con JSON! No necesitas instalar nada. Todo está en el módulo incorporado llamado `json`.\n",
        "\n",
        "Para usarlo, simplemente lo importamos al inicio de nuestro script:\n",
        "\n",
        "Python\n",
        "\n",
        "`import json`\n",
        "\n",
        "Hay cuatro funciones principales que tus aprendices deben dominar:\n",
        "\n",
        "| Proceso | De... a... | Función de Python | Descripción |\n",
        "| --- | --- | --- | --- |\n",
        "| **Decodificar** (Cargar) | String JSON ➡️ Objeto Python | `json.loads()` | **Load S**tring. Lee una cadena de texto con formato JSON. |\n",
        "| **Codificar** (Volcar) | Objeto Python ➡️ String JSON | `json.dumps()` | **Dump S**tring. Crea una cadena de texto con formato JSON. |\n",
        "| **Decodificar** (Cargar) | Archivo .json ➡️ Objeto Python | `json.load()` | **Load**. Lee directamente de un archivo. |\n",
        "| **Codificar** (Volcar) | Objeto Python ➡️ Archivo .json | `json.dump()` | **Dump**. Escribe directamente en un archivo. |\n",
        "\n",
        "Exportar a Hojas de cálculo\n",
        "\n",
        "Python hace una correspondencia directa entre los tipos de datos de JSON y los suyos:\n",
        "\n",
        "| JSON | Python |\n",
        "| --- | --- |\n",
        "| object | `dict` |\n",
        "| array | `list` |\n",
        "| string | `str` |\n",
        "| number (int) | `int` |\n",
        "| number (real) | `float` |\n",
        "| true | `True` |\n",
        "| false | `False` |\n",
        "| null | `None` |\n",
        "\n",
        "Exportar a Hojas de cálculo\n",
        "\n",
        "---\n",
        "\n",
        "### 4. Práctica 1: Convertir un String JSON a un Diccionario de Python (`json.loads`)\n",
        "\n",
        "Este proceso se llama **deserialización** o **parsing**. Tomamos una cadena de texto que sigue las reglas de JSON y la convertimos en una estructura de datos nativa de Python (un diccionario) para poder manipularla fácilmente."
      ],
      "metadata": {
        "id": "iPPIk2i9ZQyy"
      }
    },
    {
      "cell_type": "code",
      "source": [
        "import json\n",
        "\n",
        "# 1. Tenemos una cadena de texto (string) con formato JSON\n",
        "#    (Usamos triples comillas para definir un string de múltiples líneas)\n",
        "aprendiz_json_string = \"\"\"\n",
        "{\n",
        "  \"nombre\": \"Ana Sofia\",\n",
        "  \"ficha\": 2556789,\n",
        "  \"esActivo\": true,\n",
        "  \"conocimientos\": [\"Python\", \"HTML\", \"CSS\"]\n",
        "}\n",
        "\"\"\"\n",
        "\n",
        "# 2. Usamos json.loads() para \"cargar el string\" y convertirlo a un diccionario\n",
        "aprendiz_dict = json.loads(aprendiz_json_string)\n",
        "\n",
        "# 3. Ahora podemos trabajar con los datos como un diccionario normal de Python\n",
        "print(f\"El tipo de dato ahora es: {type(aprendiz_dict)}\")\n",
        "print(f\"Nombre del aprendiz: {aprendiz_dict['nombre']}\")\n",
        "print(f\"Ficha: {aprendiz_dict['ficha']}\")\n",
        "\n",
        "# Accediendo a un elemento de la lista dentro del diccionario\n",
        "print(f\"Primer conocimiento: {aprendiz_dict['conocimientos'][0]}\")"
      ],
      "metadata": {
        "id": "hfkinChfZShI"
      },
      "execution_count": null,
      "outputs": []
    },
    {
      "cell_type": "markdown",
      "source": [
        "---\n",
        "\n",
        "### 5. Práctica 2: Convertir un Diccionario de Python a un String JSON (`json.dumps`)\n",
        "\n",
        "Este proceso inverso se llama **serialización**. Tomamos un diccionario de Python y lo convertimos en una cadena de texto con formato JSON, lista para ser guardada en un archivo o enviada a través de una API."
      ],
      "metadata": {
        "id": "oAquW3vhZUY6"
      }
    },
    {
      "cell_type": "code",
      "source": [
        "import json\n",
        "\n",
        "# 1. Tenemos un diccionario de Python\n",
        "instructor_dict = {\n",
        "    \"nombre\": \"Carlos Rojas\",\n",
        "    \"profesion\": \"Ingeniero de Sistemas\",\n",
        "    \"rol\": \"Instructor SENA\",\n",
        "    \"tecnologias\": [\"Python\", \"Java\", \"SQL\"],\n",
        "    \"activo\": True\n",
        "}\n",
        "\n",
        "# 2. Usamos json.dumps() para \"volcar el diccionario a un string\"\n",
        "instructor_json_string = json.dumps(instructor_dict)\n",
        "\n",
        "# 3. El resultado es una cadena de texto en formato JSON\n",
        "print(f\"El tipo de dato ahora es: {type(instructor_json_string)}\")\n",
        "print(\"JSON en una sola línea:\")\n",
        "print(instructor_json_string)\n",
        "\n",
        "# Podemos hacerlo más legible con el parámetro 'indent'\n",
        "instructor_json_formateado = json.dumps(instructor_dict, indent=4, sort_keys=True)\n",
        "print(\"\\nJSON formateado (pretty-print):\")\n",
        "print(instructor_json_formateado)\n",
        "\n",
        "# sort_keys=True ordena las claves alfabéticamente"
      ],
      "metadata": {
        "id": "1VX7h9nHZVzm"
      },
      "execution_count": null,
      "outputs": []
    },
    {
      "cell_type": "markdown",
      "source": [
        "---\n",
        "\n",
        "### 6. Práctica 3: Trabajar con Archivos `.json`\n",
        "\n",
        "Lo más común es leer y escribir datos JSON directamente desde y hacia archivos.\n",
        "\n",
        "### Leer un archivo `.json` (`json.load`)\n",
        "\n",
        "1. Primero, crea un archivo en la misma carpeta de tu script llamado `datos.json` con el siguiente contenido:"
      ],
      "metadata": {
        "id": "P0AQ5taLZX_C"
      }
    },
    {
      "cell_type": "code",
      "source": [
        "    {\n",
        "      \"programa\": \"ADSI\",\n",
        "      \"competencia\": \"Construir el sistema que cumpla con los requisitos de la solución informática\",\n",
        "      \"duracion_horas\": 600,\n",
        "      \"aprendices\": [\n",
        "        {\"nombre\": \"Luisa\"},\n",
        "        {\"nombre\": \"Mateo\"}\n",
        "      ]\n",
        "    }"
      ],
      "metadata": {
        "id": "exT_D-JrZbUz"
      },
      "execution_count": null,
      "outputs": []
    },
    {
      "cell_type": "markdown",
      "source": [
        "2. Ahora, usa este script de Python para leerlo:"
      ],
      "metadata": {
        "id": "2EdKxggfZeGZ"
      }
    },
    {
      "cell_type": "code",
      "source": [
        "import json\n",
        "\n",
        "# Usamos 'with open(...)' para abrir el archivo y asegurar que se cierre automáticamente\n",
        "with open('datos.json', 'r', encoding='utf-8') as archivo:\n",
        "    # Usamos json.load() (sin la 's') para leer directamente del archivo\n",
        "    datos = json.load(archivo)\n",
        "\n",
        "# Ahora 'datos' es un diccionario de Python\n",
        "print(f\"El programa es: {datos['programa']}\")\n",
        "print(f\"La competencia es: {datos['competencia']}\")\n",
        "print(\"Aprendices inscritos:\")\n",
        "for aprendiz in datos['aprendices']:\n",
        "    print(f\"- {aprendiz['nombre']}\")"
      ],
      "metadata": {
        "id": "HaYd5lObZhJe"
      },
      "execution_count": null,
      "outputs": []
    },
    {
      "cell_type": "markdown",
      "source": [
        "### Escribir en un archivo `.json` (`json.dump`)\n",
        "\n",
        "Ahora vamos a crear un diccionario en Python y guardarlo en un nuevo archivo."
      ],
      "metadata": {
        "id": "zDDyYNS2ZkkX"
      }
    },
    {
      "cell_type": "code",
      "source": [
        "import json\n",
        "\n",
        "# 1. Creamos los datos que queremos guardar (una lista de diccionarios)\n",
        "nuevos_aprendices = [\n",
        "    {\n",
        "        \"nombre\": \"Valentina\",\n",
        "        \"email\": \"vale@correo.com\",\n",
        "        \"edad\": 19\n",
        "    },\n",
        "    {\n",
        "        \"nombre\": \"Santiago\",\n",
        "        \"email\": \"santi@correo.com\",\n",
        "        \"edad\": 21\n",
        "    }\n",
        "]\n",
        "\n",
        "# 2. Abrimos un archivo en modo escritura ('w' de write)\n",
        "#    Si el archivo no existe, Python lo creará. Si existe, lo sobreescribirá.\n",
        "with open('aprendices_output.json', 'w', encoding='utf-8') as archivo:\n",
        "    # Usamos json.dump() (sin la 's') para escribir el objeto de Python en el archivo\n",
        "    # Usamos indent=4 para que el archivo sea legible\n",
        "    json.dump(nuevos_aprendices, archivo, indent=4, ensure_ascii=False)\n",
        "\n",
        "print(\"¡Archivo 'aprendices_output.json' creado exitosamente!\")"
      ],
      "metadata": {
        "id": "IZyDpbSNZlv1"
      },
      "execution_count": null,
      "outputs": []
    },
    {
      "cell_type": "markdown",
      "source": [
        "`*ensure_ascii=False` es una buena práctica para que los caracteres como tildes se guarden correctamente.*\n",
        "\n",
        "---\n",
        "\n",
        "### Resumen para tus Aprendices\n",
        "\n",
        "- **¿Qué es JSON?** Un formato de texto ligero y legible para intercambiar datos.\n",
        "- **¿Para qué sirve?** Es el estándar en APIs web y archivos de configuración.\n",
        "- **¿Cómo se usa en Python?** Con el módulo `import json`.\n",
        "- **Las 4 funciones clave:**\n",
        "    - `json.loads()`: Convierte **String** a Objeto Python.\n",
        "    - `json.dumps()`: Convierte Objeto Python a **String**.\n",
        "    - `json.load()`: Lee de un **Archivo** a Objeto Python.\n",
        "    - `json.dump()`: Escribe un Objeto Python en un **Archivo**.\n",
        "\n",
        "## **Parte 4: 🚀 Mini-Proyecto de Gestión de Archivos**\n",
        "\n",
        "¡Es hora de construir! En esta sección, aplicaremos todo lo que hemos aprendido sobre funciones, refactorización y manejo de archivos para crear un programa completo y útil desde cero.\n",
        "\n",
        "### **4.1. Definición del Proyecto: \"Gestor de Contactos Simple\"**\n",
        "\n",
        "- **🎯 Objetivo:** Crear una aplicación de consola que permita a un usuario **guardar**, **ver**, **modificar** y **eliminar** contactos.\n",
        "- **💾 Persistencia:** Los datos de los contactos (nombre, teléfono, email) se guardarán de forma permanente en un archivo de texto llamado `contactos.csv`.\n",
        "\n",
        "> 🤔 ¿Qué es un archivo CSV?\n",
        ">\n",
        ">\n",
        "> CSV significa \"Comma-Separated Values\" (Valores Separados por Comas). Es un formato de texto plano donde cada línea es un registro (un contacto) y cada campo (nombre, teléfono) dentro de esa línea está separado por una coma. Es un formato muy común para intercambiar datos.\n",
        ">\n",
        "> **Ejemplo de nuestro `contactos.csv`:**\n",
        ">\n",
        "> `Diego Ojeda,3001234567,diego@sena.edu.co\n",
        "> Ana Perez,3017654321,ana@sena.edu.co`\n",
        ">\n",
        "\n",
        "### **4.2. Estructura del Programa (Modularización)**\n",
        "\n",
        "Antes de escribir una sola línea de código, ¡planificamos! Siguiendo las buenas prácticas, crearemos una función para cada una de las funcionalidades principales de nuestra aplicación.\n",
        "\n",
        "Primero, definimos el nombre de nuestro archivo como una constante global. Esto es una buena práctica porque si alguna vez necesitamos cambiar el nombre del archivo, solo lo hacemos en un lugar."
      ],
      "metadata": {
        "id": "JVndDDpIZpqf"
      }
    },
    {
      "cell_type": "code",
      "source": [
        "ARCHIVO_CONTACTOS = \"contactos.csv\""
      ],
      "metadata": {
        "id": "98xPhCBGZrht"
      },
      "execution_count": null,
      "outputs": []
    },
    {
      "cell_type": "markdown",
      "source": [
        "Ahora, definimos el esqueleto de nuestras funciones:\n",
        "\n",
        "- **`cargar_contactos()`:**\n",
        "    - **Propósito:** Lee el archivo `contactos.csv`. Si el archivo no existe, lo crea vacío.\n",
        "    - **Devuelve:** Una lista de diccionarios. Cada diccionario representa un contacto. Ej: `[{'nombre': 'Diego', 'telefono': '...', 'email': '...'}]`.\n",
        "- **`guardar_contactos(contactos)`:**\n",
        "    - **Propósito:** Recibe la lista de contactos y la escribe en `contactos.csv`, sobrescribiendo todo el contenido para mantenerlo actualizado.\n",
        "    - **Parámetros:** `contactos` (la lista de diccionarios).\n",
        "- **`mostrar_menu()`:**\n",
        "    - **Propósito:** Imprime en pantalla las opciones que el usuario puede elegir.\n",
        "- **`agregar_contacto(contactos)`:**\n",
        "    - **Propósito:** Pide al usuario el nombre, teléfono y email de un nuevo contacto. Crea el diccionario y lo añade a la lista.\n",
        "    - **Parámetros:** `contactos` (la lista actual).\n",
        "- **`modificar_contacto(contactos)`:**\n",
        "    - **Propósito:** Pide un nombre para buscar un contacto. Si lo encuentra, permite al usuario actualizar el teléfono y el email.\n",
        "    - **Parámetros:** `contactos` (la lista actual).\n",
        "- **`eliminar_contacto(contactos)`:**\n",
        "    - **Propósito:** Pide un nombre para buscar un contacto. Si lo encuentra, lo elimina de la lista.\n",
        "    - **Parámetros:** `contactos` (la lista actual).\n",
        "- **`ver_contactos(contactos)`:**\n",
        "    - **Propósito:** Muestra todos los contactos de la lista de una forma ordenada y legible.\n",
        "\n",
        "### **4.3. ¡A Programar! El Código Completo**\n",
        "\n",
        "A continuación se presenta el código completo del proyecto. Se recomienda analizar cada función por separado para entender cómo implementa la lógica que planificamos."
      ],
      "metadata": {
        "id": "dX_Q8qN0Zt0F"
      }
    },
    {
      "cell_type": "code",
      "source": [
        "# --- Constante Global ---\n",
        "ARCHIVO_CONTACTOS = \"contactos.csv\"\n",
        "\n",
        "# --- Funciones de Manejo de Datos ---\n",
        "\n",
        "def cargar_contactos() -> list:\n",
        "    \"\"\"Lee el archivo CSV y devuelve una lista de contactos.\"\"\"\n",
        "    try:\n",
        "        with open(ARCHIVO_CONTACTOS, 'r') as archivo:\n",
        "            lineas = archivo.readlines()\n",
        "            contactos = []\n",
        "            for linea in lineas:\n",
        "                # Usamos .strip() para quitar saltos de línea y separamos por la coma\n",
        "                nombre, telefono, email = linea.strip().split(',')\n",
        "                contactos.append({'nombre': nombre, 'telefono': telefono, 'email': email})\n",
        "        return contactos\n",
        "    except FileNotFoundError:\n",
        "        # Si el archivo no existe, devolvemos una lista vacía\n",
        "        return []\n",
        "\n",
        "def guardar_contactos(contactos: list):\n",
        "    \"\"\"Guarda la lista de contactos en el archivo CSV.\"\"\"\n",
        "    with open(ARCHIVO_CONTACTOS, 'w') as archivo:\n",
        "        for contacto in contactos:\n",
        "            linea = f\"{contacto['nombre']},{contacto['telefono']},{contacto['email']}\\n\"\n",
        "            archivo.write(linea)\n",
        "\n",
        "# --- Funciones de Interfaz de Usuario ---\n",
        "\n",
        "def mostrar_menu():\n",
        "    \"\"\"Muestra el menú de opciones al usuario.\"\"\"\n",
        "    print(\"\\n--- Gestor de Contactos ---\")\n",
        "    print(\"1. Ver todos los contactos\")\n",
        "    print(\"2. Agregar un contacto\")\n",
        "    print(\"3. Modificar un contacto\")\n",
        "    print(\"4. Eliminar un contacto\")\n",
        "    print(\"5. Salir\")\n",
        "\n",
        "def agregar_contacto(contactos: list):\n",
        "    \"\"\"Agrega un nuevo contacto a la lista.\"\"\"\n",
        "    print(\"\\n--- Agregar Nuevo Contacto ---\")\n",
        "    nombre = input(\"Nombre: \")\n",
        "    telefono = input(\"Teléfono: \")\n",
        "    email = input(\"Email: \")\n",
        "    contactos.append({'nombre': nombre, 'telefono': telefono, 'email': email})\n",
        "    guardar_contactos(contactos)\n",
        "    print(\"¡Contacto agregado exitosamente!\")\n",
        "\n",
        "def ver_contactos(contactos: list):\n",
        "    \"\"\"Muestra todos los contactos.\"\"\"\n",
        "    print(\"\\n--- Lista de Contactos ---\")\n",
        "    if not contactos:\n",
        "        print(\"No hay contactos para mostrar.\")\n",
        "    else:\n",
        "        for i, contacto in enumerate(contactos, 1):\n",
        "            print(f\"{i}. Nombre: {contacto['nombre']}, Teléfono: {contacto['telefono']}, Email: {contacto['email']}\")\n",
        "\n",
        "def modificar_contacto(contactos: list):\n",
        "    \"\"\"Modifica un contacto existente.\"\"\"\n",
        "    print(\"\\n--- Modificar Contacto ---\")\n",
        "    ver_contactos(contactos)\n",
        "    try:\n",
        "        indice = int(input(\"Ingresa el número del contacto que deseas modificar: \")) - 1\n",
        "        if 0 <= indice < len(contactos):\n",
        "            contacto = contactos[indice]\n",
        "            print(f\"Modificando a {contacto['nombre']}. Deja en blanco para no cambiar.\")\n",
        "            nuevo_telefono = input(f\"Nuevo teléfono ({contacto['telefono']}): \")\n",
        "            nuevo_email = input(f\"Nuevo email ({contacto['email']}): \")\n",
        "\n",
        "            if nuevo_telefono:\n",
        "                contacto['telefono'] = nuevo_telefono\n",
        "            if nuevo_email:\n",
        "                contacto['email'] = nuevo_email\n",
        "\n",
        "            guardar_contactos(contactos)\n",
        "            print(\"¡Contacto modificado exitosamente!\")\n",
        "        else:\n",
        "            print(\"Número de contacto no válido.\")\n",
        "    except ValueError:\n",
        "        print(\"Entrada no válida. Por favor, ingresa un número.\")\n",
        "\n",
        "def eliminar_contacto(contactos: list):\n",
        "    \"\"\"Elimina un contacto de la lista.\"\"\"\n",
        "    print(\"\\n--- Eliminar Contacto ---\")\n",
        "    ver_contactos(contactos)\n",
        "    try:\n",
        "        indice = int(input(\"Ingresa el número del contacto que deseas eliminar: \")) - 1\n",
        "        if 0 <= indice < len(contactos):\n",
        "            contacto_eliminado = contactos.pop(indice)\n",
        "            guardar_contactos(contactos)\n",
        "            print(f\"¡Contacto '{contacto_eliminado['nombre']}' eliminado exitosamente!\")\n",
        "        else:\n",
        "            print(\"Número de contacto no válido.\")\n",
        "    except ValueError:\n",
        "        print(\"Entrada no válida. Por favor, ingresa un número.\")\n",
        "\n",
        "\n",
        "# --- Lógica Principal del Programa ---\n",
        "\n",
        "def main():\n",
        "    \"\"\"Función principal que ejecuta el bucle del programa.\"\"\"\n",
        "    contactos = cargar_contactos()\n",
        "\n",
        "    while True:\n",
        "        mostrar_menu()\n",
        "        opcion = input(\"Selecciona una opción: \")\n",
        "\n",
        "        if opcion == '1':\n",
        "            ver_contactos(contactos)\n",
        "        elif opcion == '2':\n",
        "            agregar_contacto(contactos)\n",
        "        elif opcion == '3':\n",
        "            modificar_contacto(contactos)\n",
        "        elif opcion == '4':\n",
        "            eliminar_contacto(contactos)\n",
        "        elif opcion == '5':\n",
        "            print(\"¡Hasta luego!\")\n",
        "            break\n",
        "        else:\n",
        "            print(\"Opción no válida. Por favor, intenta de nuevo.\")\n",
        "\n",
        "# --- Punto de Entrada ---\n",
        "if __name__ == \"__main__\":\n",
        "    main()"
      ],
      "metadata": {
        "id": "tioj1fVRZvq5"
      },
      "execution_count": null,
      "outputs": []
    },
    {
      "cell_type": "markdown",
      "source": [
        "# Panorama de la Persistencia en Python\n",
        "\n",
        "https://codepen.io/Diego-Alonso-Ojeda-Medina/pen/RNWzwXJ"
      ],
      "metadata": {
        "id": "q3cT6P57ZxZ0"
      }
    }
  ]
}